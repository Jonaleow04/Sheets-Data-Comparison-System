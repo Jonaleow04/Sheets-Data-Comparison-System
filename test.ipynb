{
 "cells": [
  {
   "cell_type": "code",
   "execution_count": 1,
   "source": [
    "import gspread\r\n",
    "import pandas as pd\r\n",
    "from oauth2client.service_account import ServiceAccountCredentials"
   ],
   "outputs": [],
   "metadata": {}
  },
  {
   "cell_type": "code",
   "execution_count": 3,
   "source": [
    "scope = ['https://spreadsheets.google.com/feeds', 'https://www.googleapis.com/auth/drive']\r\n",
    "\r\n",
    "credentials = ServiceAccountCredentials.from_json_keyfile_name('sheet-data-fetcher-fd1fc06d614f.json', scope)"
   ],
   "outputs": [],
   "metadata": {}
  },
  {
   "cell_type": "code",
   "execution_count": 10,
   "source": [
    "gc = gspread.authorize(credentials)\r\n",
    "\r\n",
    "wks = gc.open('5S2 (Responses)').sheet1\r\n",
    "\r\n",
    "data = wks.get_all_values()\r\n",
    "\r\n",
    "df = pd.DataFrame(data)\r\n",
    "df.head()"
   ],
   "outputs": [],
   "metadata": {}
  }
 ],
 "metadata": {
  "orig_nbformat": 4,
  "language_info": {
   "name": "python",
   "version": "3.9.6",
   "mimetype": "text/x-python",
   "codemirror_mode": {
    "name": "ipython",
    "version": 3
   },
   "pygments_lexer": "ipython3",
   "nbconvert_exporter": "python",
   "file_extension": ".py"
  },
  "kernelspec": {
   "name": "python3",
   "display_name": "Python 3.9.6 64-bit"
  },
  "interpreter": {
   "hash": "92237062529a7dfad5db2170781e2ae2a26d776f3e84984f0f74275a2cb5ec83"
  }
 },
 "nbformat": 4,
 "nbformat_minor": 2
}