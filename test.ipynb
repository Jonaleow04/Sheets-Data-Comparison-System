{
 "cells": [
  {
   "cell_type": "code",
   "execution_count": null,
   "source": [
    "import gspread\r\n",
    "import pandas as pd\r\n",
    "from oauth2client.service_account import ServiceAccountCredentials\r\n",
    "\r\n",
    "#input sheet to be validated\r\n",
    "main_sheets_input = str(input('Enter main sheet name (5XX): '))\r\n",
    "response_sheets_input = main_sheets_input +' (Responses)'\r\n",
    "\r\n",
    "#setting up scope and authorise credential\r\n",
    "scope = ['https://spreadsheets.google.com/feeds', 'https://www.googleapis.com/auth/drive']\r\n",
    "credentials = ServiceAccountCredentials.from_json_keyfile_name('sheet-data-fetcher-fd1fc06d614f.json', scope)\r\n",
    "gc = gspread.authorize(credentials)\r\n",
    "\r\n",
    "main_sheets = gc.open(main_sheets_input).sheet1\r\n",
    "main_data = main_sheets.get_all_values()\r\n",
    "main_df = pd.DataFrame(main_data).drop([0, 1]).reset_index(drop=True)\r\n",
    "main_df.head()\r\n"
   ],
   "outputs": [],
   "metadata": {}
  }
 ],
 "metadata": {
  "orig_nbformat": 4,
  "language_info": {
   "name": "python",
   "version": "3.9.6"
  },
  "kernelspec": {
   "name": "python3",
   "display_name": "Python 3.9.6 64-bit"
  },
  "interpreter": {
   "hash": "92237062529a7dfad5db2170781e2ae2a26d776f3e84984f0f74275a2cb5ec83"
  }
 },
 "nbformat": 4,
 "nbformat_minor": 2
}