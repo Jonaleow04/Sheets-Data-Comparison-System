{
 "cells": [
  {
   "cell_type": "code",
   "execution_count": 152,
   "source": [
    "import pandas as pd\r\n",
    "import numpy as np"
   ],
   "outputs": [],
   "metadata": {}
  },
  {
   "cell_type": "code",
   "execution_count": 153,
   "source": [
    "main_sheet_input = str(input('Enter main sheet name (5XX.xlsx)'))\r\n",
    "response_sheet_input = str(input('Enter response sheet name (5XX (Responses).xlsx)'))"
   ],
   "outputs": [],
   "metadata": {}
  },
  {
   "cell_type": "code",
   "execution_count": 154,
   "source": [
    "#importing and cleaning sheets\r\n",
    "main_sheets, response_sheets = pd.read_excel(main_sheet_input, index_col=None).drop(0).reset_index(drop=True), pd.read_excel(response_sheet_input, index_col=None)\r\n",
    "main_sheets.columns, response_sheets.columns = ['No', 'Name', 'Image Number'], ['Time', 'Agreement', 'Name', 'Gender', 'Position', 'Image Number', 'Personal number','Home number', 'Email', 'Address']\r\n",
    "main_sheets.head()"
   ],
   "outputs": [
    {
     "output_type": "execute_result",
     "data": {
      "text/plain": [
       "    No                Name Image Number\n",
       "0  1.0  ANSON LIM YEK PONG       1027.0\n",
       "1  2.0      ENG NG JUN WEI       1034.0\n",
       "2  3.0       FONG JIA CONG       1028.0\n",
       "3  4.0        GAN YONG TAI       1030.0\n",
       "4  5.0         GOH XING ZE       1023.0"
      ],
      "text/html": [
       "<div>\n",
       "<style scoped>\n",
       "    .dataframe tbody tr th:only-of-type {\n",
       "        vertical-align: middle;\n",
       "    }\n",
       "\n",
       "    .dataframe tbody tr th {\n",
       "        vertical-align: top;\n",
       "    }\n",
       "\n",
       "    .dataframe thead th {\n",
       "        text-align: right;\n",
       "    }\n",
       "</style>\n",
       "<table border=\"1\" class=\"dataframe\">\n",
       "  <thead>\n",
       "    <tr style=\"text-align: right;\">\n",
       "      <th></th>\n",
       "      <th>No</th>\n",
       "      <th>Name</th>\n",
       "      <th>Image Number</th>\n",
       "    </tr>\n",
       "  </thead>\n",
       "  <tbody>\n",
       "    <tr>\n",
       "      <th>0</th>\n",
       "      <td>1.0</td>\n",
       "      <td>ANSON LIM YEK PONG</td>\n",
       "      <td>1027.0</td>\n",
       "    </tr>\n",
       "    <tr>\n",
       "      <th>1</th>\n",
       "      <td>2.0</td>\n",
       "      <td>ENG NG JUN WEI</td>\n",
       "      <td>1034.0</td>\n",
       "    </tr>\n",
       "    <tr>\n",
       "      <th>2</th>\n",
       "      <td>3.0</td>\n",
       "      <td>FONG JIA CONG</td>\n",
       "      <td>1028.0</td>\n",
       "    </tr>\n",
       "    <tr>\n",
       "      <th>3</th>\n",
       "      <td>4.0</td>\n",
       "      <td>GAN YONG TAI</td>\n",
       "      <td>1030.0</td>\n",
       "    </tr>\n",
       "    <tr>\n",
       "      <th>4</th>\n",
       "      <td>5.0</td>\n",
       "      <td>GOH XING ZE</td>\n",
       "      <td>1023.0</td>\n",
       "    </tr>\n",
       "  </tbody>\n",
       "</table>\n",
       "</div>"
      ]
     },
     "metadata": {},
     "execution_count": 154
    }
   ],
   "metadata": {}
  },
  {
   "cell_type": "code",
   "execution_count": 155,
   "source": [
    "response_sheets.head()"
   ],
   "outputs": [
    {
     "output_type": "execute_result",
     "data": {
      "text/plain": [
       "                     Time                                        Agreement  \\\n",
       "0 2021-07-12 13:27:32.845  I have read ALL the guidelines mentioned above.   \n",
       "1 2021-07-16 17:29:14.985  I have read ALL the guidelines mentioned above.   \n",
       "2 2021-07-12 15:46:56.206  I have read ALL the guidelines mentioned above.   \n",
       "3 2021-07-16 17:33:55.004  I have read ALL the guidelines mentioned above.   \n",
       "4 2021-07-13 12:09:03.615  I have read ALL the guidelines mentioned above.   \n",
       "\n",
       "                 Name         Gender Position  Image Number Personal number  \\\n",
       "0  ANSON LIM YEK PONG  Male | Lelaki      NaN        1027.0      0129815425   \n",
       "1      ENG NG JUN WEI  Male | Lelaki      NaN        1034.0     018-4636266   \n",
       "2       FONG JIA CONG  Male | Lelaki      NaN        1028.0    011-11059160   \n",
       "3        GAN YONG TAI  Male | Lelaki      NaN        1030.0     010-8686563   \n",
       "4         GOH XING ZE  Male | Lelaki      NaN        1023.0      0125839553   \n",
       "\n",
       "  Home number                    Email  \\\n",
       "0         NaN  m-2182919@moe-dl.edu.my   \n",
       "1         NaN      Junweieng@gmail.co.   \n",
       "2         NaN  fongjiacong13@gmail.com   \n",
       "3           -   ganyongtai04@gmail.com   \n",
       "4         NaN     xingze0313@gmail.com   \n",
       "\n",
       "                                             Address  \n",
       "0      34, Lrg SELESA 3, Tmn SELESA ALMA, 14000, B.M  \n",
       "1  56, Lrg Impian Indah 16, Tmn Impian Indah, 140...  \n",
       "2       16, Lrg Santuari 4, Tmn Santuari, 14000 B.M.  \n",
       "3           55, Lrg Damai 2, Tmn Permata, 14000 B.M.  \n",
       "4     5,Jln Saujana 1/1, Tmn Saujana Indah, 14000 BM  "
      ],
      "text/html": [
       "<div>\n",
       "<style scoped>\n",
       "    .dataframe tbody tr th:only-of-type {\n",
       "        vertical-align: middle;\n",
       "    }\n",
       "\n",
       "    .dataframe tbody tr th {\n",
       "        vertical-align: top;\n",
       "    }\n",
       "\n",
       "    .dataframe thead th {\n",
       "        text-align: right;\n",
       "    }\n",
       "</style>\n",
       "<table border=\"1\" class=\"dataframe\">\n",
       "  <thead>\n",
       "    <tr style=\"text-align: right;\">\n",
       "      <th></th>\n",
       "      <th>Time</th>\n",
       "      <th>Agreement</th>\n",
       "      <th>Name</th>\n",
       "      <th>Gender</th>\n",
       "      <th>Position</th>\n",
       "      <th>Image Number</th>\n",
       "      <th>Personal number</th>\n",
       "      <th>Home number</th>\n",
       "      <th>Email</th>\n",
       "      <th>Address</th>\n",
       "    </tr>\n",
       "  </thead>\n",
       "  <tbody>\n",
       "    <tr>\n",
       "      <th>0</th>\n",
       "      <td>2021-07-12 13:27:32.845</td>\n",
       "      <td>I have read ALL the guidelines mentioned above.</td>\n",
       "      <td>ANSON LIM YEK PONG</td>\n",
       "      <td>Male | Lelaki</td>\n",
       "      <td>NaN</td>\n",
       "      <td>1027.0</td>\n",
       "      <td>0129815425</td>\n",
       "      <td>NaN</td>\n",
       "      <td>m-2182919@moe-dl.edu.my</td>\n",
       "      <td>34, Lrg SELESA 3, Tmn SELESA ALMA, 14000, B.M</td>\n",
       "    </tr>\n",
       "    <tr>\n",
       "      <th>1</th>\n",
       "      <td>2021-07-16 17:29:14.985</td>\n",
       "      <td>I have read ALL the guidelines mentioned above.</td>\n",
       "      <td>ENG NG JUN WEI</td>\n",
       "      <td>Male | Lelaki</td>\n",
       "      <td>NaN</td>\n",
       "      <td>1034.0</td>\n",
       "      <td>018-4636266</td>\n",
       "      <td>NaN</td>\n",
       "      <td>Junweieng@gmail.co.</td>\n",
       "      <td>56, Lrg Impian Indah 16, Tmn Impian Indah, 140...</td>\n",
       "    </tr>\n",
       "    <tr>\n",
       "      <th>2</th>\n",
       "      <td>2021-07-12 15:46:56.206</td>\n",
       "      <td>I have read ALL the guidelines mentioned above.</td>\n",
       "      <td>FONG JIA CONG</td>\n",
       "      <td>Male | Lelaki</td>\n",
       "      <td>NaN</td>\n",
       "      <td>1028.0</td>\n",
       "      <td>011-11059160</td>\n",
       "      <td>NaN</td>\n",
       "      <td>fongjiacong13@gmail.com</td>\n",
       "      <td>16, Lrg Santuari 4, Tmn Santuari, 14000 B.M.</td>\n",
       "    </tr>\n",
       "    <tr>\n",
       "      <th>3</th>\n",
       "      <td>2021-07-16 17:33:55.004</td>\n",
       "      <td>I have read ALL the guidelines mentioned above.</td>\n",
       "      <td>GAN YONG TAI</td>\n",
       "      <td>Male | Lelaki</td>\n",
       "      <td>NaN</td>\n",
       "      <td>1030.0</td>\n",
       "      <td>010-8686563</td>\n",
       "      <td>-</td>\n",
       "      <td>ganyongtai04@gmail.com</td>\n",
       "      <td>55, Lrg Damai 2, Tmn Permata, 14000 B.M.</td>\n",
       "    </tr>\n",
       "    <tr>\n",
       "      <th>4</th>\n",
       "      <td>2021-07-13 12:09:03.615</td>\n",
       "      <td>I have read ALL the guidelines mentioned above.</td>\n",
       "      <td>GOH XING ZE</td>\n",
       "      <td>Male | Lelaki</td>\n",
       "      <td>NaN</td>\n",
       "      <td>1023.0</td>\n",
       "      <td>0125839553</td>\n",
       "      <td>NaN</td>\n",
       "      <td>xingze0313@gmail.com</td>\n",
       "      <td>5,Jln Saujana 1/1, Tmn Saujana Indah, 14000 BM</td>\n",
       "    </tr>\n",
       "  </tbody>\n",
       "</table>\n",
       "</div>"
      ]
     },
     "metadata": {},
     "execution_count": 155
    }
   ],
   "metadata": {}
  },
  {
   "cell_type": "code",
   "execution_count": 156,
   "source": [
    "response_image_number = response_sheets['Image Number']\r\n",
    "main_image_number = main_sheets['Image Number']"
   ],
   "outputs": [],
   "metadata": {}
  },
  {
   "cell_type": "code",
   "execution_count": 157,
   "source": [
    "response_image_number.head()"
   ],
   "outputs": [
    {
     "output_type": "execute_result",
     "data": {
      "text/plain": [
       "0    1027.0\n",
       "1    1034.0\n",
       "2    1028.0\n",
       "3    1030.0\n",
       "4    1023.0\n",
       "Name: Image Number, dtype: float64"
      ]
     },
     "metadata": {},
     "execution_count": 157
    }
   ],
   "metadata": {}
  },
  {
   "cell_type": "code",
   "execution_count": 158,
   "source": [
    "main_image_number.head()"
   ],
   "outputs": [
    {
     "output_type": "execute_result",
     "data": {
      "text/plain": [
       "0    1027.0\n",
       "1    1034.0\n",
       "2    1028.0\n",
       "3    1030.0\n",
       "4    1023.0\n",
       "Name: Image Number, dtype: object"
      ]
     },
     "metadata": {},
     "execution_count": 158
    }
   ],
   "metadata": {}
  },
  {
   "cell_type": "code",
   "execution_count": 159,
   "source": [
    "response_image_number == main_image_number"
   ],
   "outputs": [
    {
     "output_type": "execute_result",
     "data": {
      "text/plain": [
       "0     True\n",
       "1     True\n",
       "2     True\n",
       "3     True\n",
       "4     True\n",
       "5     True\n",
       "6     True\n",
       "7     True\n",
       "8     True\n",
       "9     True\n",
       "10    True\n",
       "11    True\n",
       "12    True\n",
       "13    True\n",
       "14    True\n",
       "15    True\n",
       "16    True\n",
       "17    True\n",
       "18    True\n",
       "19    True\n",
       "20    True\n",
       "21    True\n",
       "22    True\n",
       "23    True\n",
       "24    True\n",
       "25    True\n",
       "26    True\n",
       "27    True\n",
       "28    True\n",
       "29    True\n",
       "30    True\n",
       "31    True\n",
       "32    True\n",
       "33    True\n",
       "34    True\n",
       "35    True\n",
       "36    True\n",
       "37    True\n",
       "Name: Image Number, dtype: bool"
      ]
     },
     "metadata": {},
     "execution_count": 159
    }
   ],
   "metadata": {}
  }
 ],
 "metadata": {
  "orig_nbformat": 4,
  "language_info": {
   "name": "python"
  }
 },
 "nbformat": 4,
 "nbformat_minor": 2
}